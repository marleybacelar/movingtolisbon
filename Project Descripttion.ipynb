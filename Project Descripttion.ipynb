{
    "cells": [
        {
            "cell_type": "markdown",
            "metadata": {
                "collapsed": true
            },
            "source": "# Move to Lisbon\n\n"
        },
        {
            "cell_type": "markdown",
            "metadata": {},
            "source": "Introduction\n\nLisbon is the capital of Portugal with a population of approximately 504,718 inhabitants, it has a mild climate, with less severe winters compared to other countries in Europe.\n\nThe city has been continuously investing in order to become a technology hub and attract startups and professionals of excellence in the area of \u200b\u200binformation technology with many professionals migrating from Brazil and other parts of the world.\n\n\nThe problem\n\nA professional accepted a new job proposal, being expatriated from his country and migrating to Lisbon with his wife and children, now he needs to find neighborhoods in the city so that he can establish his new residence, as he has children, he needs a neighborhood that has schools, pharmacies, hospitals and parks. Preferably within a radius of 1km so that you can have easy access to them.\n\nIt is also important to have information about the dangerous neighborhoods of Lisbon, having these as exclusion zones so that you can avoid them when selecting your new home.\n\nThe data\n\nData will be collected on the web, using wikipedia to collect the names of Lisbon neighborhoods (https://pt.wikipedia.org/wiki/Bairros_de_Lisboa) and Google searches to collect information from the most dangerous neighborhoods. Foursquare will be used to capture information about schools, pharmacies, hospitals and parks within a radius of 1,000m from the location of the neighborhoods.\n\nThe location (latitude and longitude) will be captured through the geocode library, thus composing the main data for this study."
        },
        {
            "cell_type": "code",
            "execution_count": null,
            "metadata": {},
            "outputs": [],
            "source": "The problem\n\nA professional accepted a new job proposal, being expatriated from his country and migrating to Lisbon with his wife and children, now he needs to find neighborhoods in the city so that he can establish his new residence, as he has children, he needs a neighborhood that has schools, pharmacies, hospitals and parks. Preferably within a radius of 1km so that you can have easy access to them.\n\nIt is also important to have information about the dangerous neighborhoods of Lisbon, having these as exclusion zones so that you can avoid them when selecting your new home."
        }
    ],
    "metadata": {
        "kernelspec": {
            "display_name": "Python 3.7",
            "language": "python",
            "name": "python3"
        },
        "language_info": {
            "codemirror_mode": {
                "name": "ipython",
                "version": 3
            },
            "file_extension": ".py",
            "mimetype": "text/x-python",
            "name": "python",
            "nbconvert_exporter": "python",
            "pygments_lexer": "ipython3",
            "version": "3.7.10"
        }
    },
    "nbformat": 4,
    "nbformat_minor": 1
}