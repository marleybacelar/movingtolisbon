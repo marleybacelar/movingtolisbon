{
    "cells": [
        {
            "cell_type": "markdown",
            "metadata": {
                "collapsed": true
            },
            "source": "# The problem\n\n## A family with children is moving to Lisbon, Portugal. Without knowing the city and its neighborhoods, needing to find the best neighborhoods to live in that have schools, pharmacies, hospitals and recreation parks and savoid dangerous neighborhoods when choosing their new home.\n"
        },
        {
            "cell_type": "markdown",
            "metadata": {},
            "source": "# The Data\n\n"
        }
    ],
    "metadata": {
        "kernelspec": {
            "display_name": "Python 3.7",
            "language": "python",
            "name": "python3"
        },
        "language_info": {
            "codemirror_mode": {
                "name": "ipython",
                "version": 3
            },
            "file_extension": ".py",
            "mimetype": "text/x-python",
            "name": "python",
            "nbconvert_exporter": "python",
            "pygments_lexer": "ipython3",
            "version": "3.7.10"
        }
    },
    "nbformat": 4,
    "nbformat_minor": 1
}